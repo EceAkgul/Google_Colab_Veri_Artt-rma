from keras.preprocessing.image import ImageDataGenerator, array_to_img, img_to_array, load_img

datagen = ImageDataGenerator(rotation_range=40,
                             width_shift_range=0.2,
                             height_shift_range=0.2,
                             shear_range=0.2,
                             zoom_range=0.2,
                             horizontal_flip=True,
                             vertical_flip=True,
                             fill_mode='nearest')
                            
img= load_img('/content/gdrive/My Drive/VeriArtirma/tent.jpg')
x=img_to_array(img)
x=x.reshape((1,)+x.shape)

i=0
for batch in datagen.flow(x, batch_size=1,
                          save_to_dir='/content/gdrive/My Drive/VeriArtirma/ArttirilmisVeri',
                          save_format='jpeg'):
  i+=1
  if i>50:
     break
